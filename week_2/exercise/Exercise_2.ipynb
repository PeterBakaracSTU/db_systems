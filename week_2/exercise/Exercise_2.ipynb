{
  "nbformat": 4,
  "nbformat_minor": 0,
  "metadata": {
    "colab": {
      "provenance": []
    },
    "kernelspec": {
      "name": "python3",
      "display_name": "Python 3"
    },
    "language_info": {
      "name": "python"
    }
  },
  "cells": [
    {
      "cell_type": "markdown",
      "source": [
        "**Úloha 1**\n",
        "\n",
        "Vložte sem funkciu na pripojenie k databáze z predchádzajúceho cvičenia.\n",
        "\n"
      ],
      "metadata": {
        "id": "pXlGEhjolGx-"
      }
    },
    {
      "cell_type": "code",
      "source": [],
      "metadata": {
        "id": "9MXik-JNlWsO"
      },
      "execution_count": null,
      "outputs": []
    },
    {
      "cell_type": "markdown",
      "source": [
        "**Úloha 2**\n",
        "\n",
        "Vytvorte tabuľku v databáze podľa vlatného výberu:\n",
        "  - názov tabuľky\n",
        "  - názvy stĺpcov\n",
        "  - dátové typy\n",
        "  - obmedzenia\n",
        "\n",
        "Tabuľka musí obsahovať stĺpec s obmedzením CHECK"
      ],
      "metadata": {
        "id": "UNDoMdSHlXPZ"
      }
    },
    {
      "cell_type": "code",
      "source": [],
      "metadata": {
        "id": "Tspdcil6lwhC"
      },
      "execution_count": null,
      "outputs": []
    },
    {
      "cell_type": "markdown",
      "source": [
        "**Úloha 3**\n",
        "\n",
        "Otestujete pridanie záznamu do tabuľky, ktorý spĺňa požiadavky."
      ],
      "metadata": {
        "id": "dsn_gtAIlxTQ"
      }
    },
    {
      "cell_type": "code",
      "source": [],
      "metadata": {
        "id": "Kavdr350mB4F"
      },
      "execution_count": null,
      "outputs": []
    },
    {
      "cell_type": "markdown",
      "source": [
        "**Úloha 4**\n",
        "\n",
        "Otestujte pridanie záznamu do tabuľky, ktorý **NESPĹŇA** požiadavky."
      ],
      "metadata": {
        "id": "LGDRxvyamCHs"
      }
    },
    {
      "cell_type": "code",
      "source": [],
      "metadata": {
        "id": "WYFvKDc2mMAg"
      },
      "execution_count": null,
      "outputs": []
    },
    {
      "cell_type": "markdown",
      "source": [
        "**Úloha 5**\n",
        "\n",
        "Vytvorte funkciu na pridávanie záznamov do tabuľky, ktorej vstupom sú:\n",
        "  - objekt propojenia\n",
        "  - tuple záznamov do tabuľky\n"
      ],
      "metadata": {
        "id": "Gu_0RR6imQAt"
      }
    },
    {
      "cell_type": "code",
      "source": [],
      "metadata": {
        "id": "KwNbqCLZndbz"
      },
      "execution_count": null,
      "outputs": []
    },
    {
      "cell_type": "markdown",
      "source": [
        "**Úloha 6**\n",
        "\n",
        "Vytvorte skript, ktorý vygeneruje náhodné dáta do vašej tabuľky a cyklicky bude volať funkciu na vloženie dát. Dáta do tabuľky musia byť konzistentné a zmysluplné."
      ],
      "metadata": {
        "id": "w2BZFc8snq27"
      }
    },
    {
      "cell_type": "code",
      "source": [],
      "metadata": {
        "id": "jVUYXQtfn_Xp"
      },
      "execution_count": null,
      "outputs": []
    }
  ]
}